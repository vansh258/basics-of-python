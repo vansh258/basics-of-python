{
 "cells": [
  {
   "cell_type": "code",
   "execution_count": 1,
   "metadata": {},
   "outputs": [],
   "source": [
    "#creating a function\n",
    "def helloworld():\n",
    "    print(\"helloworld\")"
   ]
  },
  {
   "cell_type": "code",
   "execution_count": 2,
   "metadata": {},
   "outputs": [
    {
     "name": "stdout",
     "output_type": "stream",
     "text": [
      "helloworld\n"
     ]
    }
   ],
   "source": [
    "#function call\n",
    "helloworld()"
   ]
  },
  {
   "cell_type": "code",
   "execution_count": 4,
   "metadata": {},
   "outputs": [
    {
     "name": "stdout",
     "output_type": "stream",
     "text": [
      "hello eddy\n",
      "hello 5\n"
     ]
    }
   ],
   "source": [
    "#function2- create a function and pass input variable\n",
    "## pass variable to the function\n",
    "def hello(nm):\n",
    "    print(\"hello\",nm)\n",
    "hello(\"eddy\")\n",
    "hello(5)"
   ]
  },
  {
   "cell_type": "code",
   "execution_count": 5,
   "metadata": {},
   "outputs": [
    {
     "name": "stdout",
     "output_type": "stream",
     "text": [
      "name: ethan\n",
      "age: 22\n"
     ]
    }
   ],
   "source": [
    "def printinfo(name,age):\n",
    "    print(\"name:\",name)\n",
    "    print(\"age:\",age)\n",
    "    return;\n",
    "printinfo(\"ethan\",22)"
   ]
  },
  {
   "cell_type": "code",
   "execution_count": 6,
   "metadata": {},
   "outputs": [
    {
     "name": "stdout",
     "output_type": "stream",
     "text": [
      "78.5\n"
     ]
    }
   ],
   "source": [
    "\n",
    "def area(r):\n",
    "    print(3.14*r*r)\n",
    "    return;\n",
    "area(5)\n",
    "\n",
    "    "
   ]
  },
  {
   "cell_type": "code",
   "execution_count": 7,
   "metadata": {},
   "outputs": [
    {
     "name": "stdout",
     "output_type": "stream",
     "text": [
      "21\n"
     ]
    }
   ],
   "source": [
    "def add(a,b):\n",
    "    print(a+b)\n",
    "    return;\n",
    "add(10,11)"
   ]
  },
  {
   "cell_type": "code",
   "execution_count": 12,
   "metadata": {},
   "outputs": [
    {
     "name": "stdout",
     "output_type": "stream",
     "text": [
      "41\n"
     ]
    }
   ],
   "source": [
    "def sub(a,b):\n",
    "    print(a-b)\n",
    "    #return;\n",
    "sub(95,54)"
   ]
  },
  {
   "cell_type": "code",
   "execution_count": 14,
   "metadata": {},
   "outputs": [
    {
     "name": "stdout",
     "output_type": "stream",
     "text": [
      "2\n"
     ]
    }
   ],
   "source": [
    "def mul(a,b):\n",
    "    return(a*b);\n",
    "mul(3,5)\n",
    "sub(5,3)"
   ]
  },
  {
   "cell_type": "code",
   "execution_count": 19,
   "metadata": {},
   "outputs": [
    {
     "name": "stdout",
     "output_type": "stream",
     "text": [
      "namaste vansh\n",
      "holla boom\n"
     ]
    }
   ],
   "source": [
    "def language(country,name):\n",
    "    if(country==\"france\"):\n",
    "        print(\"bonjour\",name)\n",
    "    elif(country==\"india\"):\n",
    "        print(\"namaste\",name)\n",
    "    elif(country==\"us\"):\n",
    "        print(\"hi\",name)\n",
    "    elif(country==\"spain\"):\n",
    "        print(\"holla\",name)\n",
    "    return;\n",
    "language(\"india\",\"vansh\")\n",
    "language(\"spain\",\"boom\")"
   ]
  },
  {
   "cell_type": "code",
   "execution_count": 20,
   "metadata": {},
   "outputs": [
    {
     "name": "stdout",
     "output_type": "stream",
     "text": [
      "15\n"
     ]
    }
   ],
   "source": [
    "def my_function(x):\n",
    "    return(5*x)\n",
    "print(my_function(3))"
   ]
  },
  {
   "cell_type": "code",
   "execution_count": 25,
   "metadata": {},
   "outputs": [],
   "source": [
    "def num():\n",
    "    even=[]\n",
    "    odd=[]\n",
    "    for i in range(10,101):\n",
    "        if(i%2==0):\n",
    "            even.append(i)\n",
    "        else:\n",
    "            odd.append(i)\n",
    "    print(even)\n",
    "    print(odd)\n",
    "\n",
    "    "
   ]
  },
  {
   "cell_type": "code",
   "execution_count": 26,
   "metadata": {},
   "outputs": [
    {
     "name": "stdout",
     "output_type": "stream",
     "text": [
      "[10, 12, 14, 16, 18, 20, 22, 24, 26, 28, 30, 32, 34, 36, 38, 40, 42, 44, 46, 48, 50, 52, 54, 56, 58, 60, 62, 64, 66, 68, 70, 72, 74, 76, 78, 80, 82, 84, 86, 88, 90, 92, 94, 96, 98, 100]\n",
      "[11, 13, 15, 17, 19, 21, 23, 25, 27, 29, 31, 33, 35, 37, 39, 41, 43, 45, 47, 49, 51, 53, 55, 57, 59, 61, 63, 65, 67, 69, 71, 73, 75, 77, 79, 81, 83, 85, 87, 89, 91, 93, 95, 97, 99]\n"
     ]
    }
   ],
   "source": [
    "num()"
   ]
  },
  {
   "cell_type": "code",
   "execution_count": 27,
   "metadata": {},
   "outputs": [],
   "source": [
    "def cust():\n",
    "    amt=int(input(\"enter the cust credit:\"))\n",
    "    if(amt>=25000):\n",
    "        print(\"diamond customer\")\n",
    "    elif(15000>amt>25000):\n",
    "        print(\"gold\")\n",
    "    else:\n",
    "        print(\"bronze\")"
   ]
  },
  {
   "cell_type": "code",
   "execution_count": 28,
   "metadata": {},
   "outputs": [
    {
     "name": "stdout",
     "output_type": "stream",
     "text": [
      "enter the cust credit:17000\n",
      "bronze\n"
     ]
    }
   ],
   "source": [
    "cust()"
   ]
  },
  {
   "cell_type": "code",
   "execution_count": 29,
   "metadata": {},
   "outputs": [
    {
     "name": "stdout",
     "output_type": "stream",
     "text": [
      "enter the cust credit:26000\n",
      "diamond customer\n"
     ]
    }
   ],
   "source": [
    "cust()"
   ]
  },
  {
   "cell_type": "code",
   "execution_count": 30,
   "metadata": {},
   "outputs": [],
   "source": [
    "lis=[10,11,12,13,14,15]\n",
    "def abc():\n",
    "    lis[2]=100"
   ]
  },
  {
   "cell_type": "code",
   "execution_count": 31,
   "metadata": {},
   "outputs": [],
   "source": [
    "abc()"
   ]
  },
  {
   "cell_type": "code",
   "execution_count": 32,
   "metadata": {},
   "outputs": [
    {
     "name": "stdout",
     "output_type": "stream",
     "text": [
      "[10, 11, 100, 13, 14, 15]\n"
     ]
    }
   ],
   "source": [
    "print(lis)"
   ]
  },
  {
   "cell_type": "code",
   "execution_count": 35,
   "metadata": {},
   "outputs": [
    {
     "name": "stdout",
     "output_type": "stream",
     "text": [
      "values inside the function: [10, 20, 30, [1, 2, 3, 4]]\n",
      "values outside the function: [10, 20, 30, [1, 2, 3, 4]]\n"
     ]
    }
   ],
   "source": [
    "#pass by refrence\n",
    "#function definition is here\n",
    "def changeme(mylist):\n",
    "    mylist.append([1,2,3,4])\n",
    "    print(\"values inside the function:\",mylist)\n",
    "    return\n",
    "#now you can call changeme function\n",
    "mylist=[10,20,30]\n",
    "changeme(mylist)\n",
    "print(\"values outside the function:\",mylist)\n",
    "#if you change what a parameter refers to within a function, the change also reflects back in the call"
   ]
  },
  {
   "cell_type": "code",
   "execution_count": 36,
   "metadata": {},
   "outputs": [
    {
     "name": "stdout",
     "output_type": "stream",
     "text": [
      "values inside the function: [1, 2, 3, 4]\n",
      "values outside the function: [10, 20, 30]\n"
     ]
    }
   ],
   "source": [
    "#pass by refrence and its overwritten\n",
    "def changeme(mylist):\n",
    "    mylist=[1,2,3,4]# this would assign new reference in my list\n",
    "    print(\"values inside the function:\",mylist)\n",
    "    return\n",
    "mylist=[10,20,30]\n",
    "changeme(mylist)\n",
    "print(\"values outside the function:\",mylist)"
   ]
  },
  {
   "cell_type": "code",
   "execution_count": 43,
   "metadata": {},
   "outputs": [
    {
     "name": "stdout",
     "output_type": "stream",
     "text": [
      "20 10\n"
     ]
    }
   ],
   "source": [
    "def swap(x,y):\n",
    "    z=0\n",
    "    z=x\n",
    "    x=y\n",
    "    y=z\n",
    "    print(x,y)\n",
    "    return\n",
    "swap(10,20)"
   ]
  },
  {
   "cell_type": "code",
   "execution_count": 1,
   "metadata": {},
   "outputs": [
    {
     "name": "stdout",
     "output_type": "stream",
     "text": [
      "inside the function local total: 30\n",
      "outside the function global total: 0\n"
     ]
    }
   ],
   "source": [
    "## scope variables\n",
    "total=0 # this is global variable\n",
    "#function definition\n",
    "def sum(arg1,arg2):\n",
    "    total=arg1+arg2 # here total is local variable\n",
    "    print('inside the function local total:',total)\n",
    "    return total\n",
    "sum(10,20)\n",
    "print(\"outside the function global total:\",total)\n"
   ]
  },
  {
   "cell_type": "code",
   "execution_count": 6,
   "metadata": {},
   "outputs": [
    {
     "name": "stdout",
     "output_type": "stream",
     "text": [
      "no. of weeks: 2\n",
      "no. of days: 6\n"
     ]
    }
   ],
   "source": [
    "def remain(days):\n",
    "    weeks=days//7\n",
    "    remainder=days%7\n",
    "    print(\"no. of weeks:\",weeks)\n",
    "    print(\"no. of days:\",remainder)\n",
    "remain(20)"
   ]
  },
  {
   "cell_type": "code",
   "execution_count": 9,
   "metadata": {},
   "outputs": [
    {
     "data": {
      "text/plain": [
       "32.0"
      ]
     },
     "execution_count": 9,
     "metadata": {},
     "output_type": "execute_result"
    }
   ],
   "source": [
    "def cal(temp):\n",
    "    #(0°C × 9/5) + 32\n",
    "    fahr=((temp*(9/5))+32)\n",
    "    return fahr\n",
    "cal(0)\n"
   ]
  },
  {
   "cell_type": "code",
   "execution_count": 10,
   "metadata": {},
   "outputs": [],
   "source": [
    "def prime(a):\n",
    "    if a>1:\n",
    "        for i in range(2,a):\n",
    "            if (a%i)==0:\n",
    "                print(a,\"is not a prime number\")\n",
    "                break\n",
    "        else:\n",
    "            print(a,\"is a prime number\")\n",
    "    else:\n",
    "        print(a,\"is not a prime number\")"
   ]
  },
  {
   "cell_type": "code",
   "execution_count": 11,
   "metadata": {},
   "outputs": [
    {
     "name": "stdout",
     "output_type": "stream",
     "text": [
      "25 is not a prime number\n"
     ]
    }
   ],
   "source": [
    "prime(25)"
   ]
  },
  {
   "cell_type": "code",
   "execution_count": 12,
   "metadata": {},
   "outputs": [
    {
     "data": {
      "text/plain": [
       "'bna'"
      ]
     },
     "execution_count": 12,
     "metadata": {},
     "output_type": "execute_result"
    }
   ],
   "source": [
    "a=\"BNA\".lower()\n",
    "a"
   ]
  },
  {
   "cell_type": "code",
   "execution_count": 13,
   "metadata": {},
   "outputs": [
    {
     "data": {
      "text/plain": [
       "'bna'"
      ]
     },
     "execution_count": 13,
     "metadata": {},
     "output_type": "execute_result"
    }
   ],
   "source": [
    "a=\"BNA\".casefold()\n",
    "a"
   ]
  },
  {
   "cell_type": "code",
   "execution_count": 29,
   "metadata": {},
   "outputs": [],
   "source": [
    "def pal(a):\n",
    "    a=a.casefold()\n",
    "    rev_str=reversed(a)\n",
    "    if list(a)==list(rev_str):\n",
    "        print(\"it is a palandrome\")\n",
    "    else:\n",
    "        print(\"it is not a palandrome\")"
   ]
  },
  {
   "cell_type": "code",
   "execution_count": 31,
   "metadata": {},
   "outputs": [
    {
     "name": "stdout",
     "output_type": "stream",
     "text": [
      "it is a palandrome\n"
     ]
    }
   ],
   "source": [
    "\n",
    "pal(\"aabbaa\")"
   ]
  },
  {
   "cell_type": "code",
   "execution_count": 38,
   "metadata": {},
   "outputs": [
    {
     "name": "stdout",
     "output_type": "stream",
     "text": [
      "python is great\n",
      "juzz awsome\n",
      "juzz awsome\n"
     ]
    }
   ],
   "source": [
    "\n",
    "def f():\n",
    "    global s\n",
    "    print (s)\n",
    "    s=\"juzz awsome\"\n",
    "    print(s)\n",
    "    \n",
    "s=\"python is great\"\n",
    "f()\n",
    "print(s)"
   ]
  },
  {
   "cell_type": "code",
   "execution_count": 39,
   "metadata": {},
   "outputs": [
    {
     "name": "stdout",
     "output_type": "stream",
     "text": [
      "global: 1\n",
      "inside f(): 1\n",
      "global: 1\n",
      "inside g(): 2\n",
      "global: 1\n",
      "inside h(): 3\n",
      "global: 3\n"
     ]
    }
   ],
   "source": [
    "a=1\n",
    "def f():\n",
    "    print(\"inside f():\",a)\n",
    "#variable \"a\" is redefined as a local\n",
    "def g():\n",
    "    a=2\n",
    "    print(\"inside g():\",a)\n",
    "#uses global keyword to modify global a\n",
    "def h():\n",
    "    global a\n",
    "    a=3\n",
    "    print(\"inside h():\",a)\n",
    "print(\"global:\",a)\n",
    "f()\n",
    "print(\"global:\",a)\n",
    "g()\n",
    "print(\"global:\",a)\n",
    "h()\n",
    "print(\"global:\",a)"
   ]
  },
  {
   "cell_type": "markdown",
   "metadata": {},
   "source": []
  },
  {
   "cell_type": "markdown",
   "metadata": {},
   "source": [
    "# lambda"
   ]
  },
  {
   "cell_type": "code",
   "execution_count": 40,
   "metadata": {},
   "outputs": [
    {
     "name": "stdout",
     "output_type": "stream",
     "text": [
      "125\n"
     ]
    }
   ],
   "source": [
    "x=lambda y:y**3\n",
    "print(x(5))"
   ]
  },
  {
   "cell_type": "code",
   "execution_count": 1,
   "metadata": {},
   "outputs": [
    {
     "name": "stdout",
     "output_type": "stream",
     "text": [
      "6\n"
     ]
    }
   ],
   "source": [
    "x=lambda a,b:a*b\n",
    "print (x(2,3))"
   ]
  },
  {
   "cell_type": "code",
   "execution_count": 2,
   "metadata": {},
   "outputs": [],
   "source": [
    "# call lambda within a function\n",
    "#use the same function definition to make "
   ]
  },
  {
   "cell_type": "code",
   "execution_count": 4,
   "metadata": {},
   "outputs": [
    {
     "data": {
      "text/plain": [
       "True"
      ]
     },
     "execution_count": 4,
     "metadata": {},
     "output_type": "execute_result"
    }
   ],
   "source": [
    "f=lambda x: x>10\n",
    "f(12)"
   ]
  },
  {
   "cell_type": "markdown",
   "metadata": {},
   "source": [
    "# filter"
   ]
  },
  {
   "cell_type": "code",
   "execution_count": 5,
   "metadata": {},
   "outputs": [
    {
     "name": "stdout",
     "output_type": "stream",
     "text": [
      "[5, 7, 97, 77, 23]\n"
     ]
    }
   ],
   "source": [
    "li=[5,7,22,97,54,62,77,23]\n",
    "final_list=list(filter(lambda x:(x%2==1),li))\n",
    "print(final_list)"
   ]
  },
  {
   "cell_type": "code",
   "execution_count": 7,
   "metadata": {},
   "outputs": [
    {
     "name": "stdout",
     "output_type": "stream",
     "text": [
      "[{'name': 'java', 'points': 8}]\n"
     ]
    }
   ],
   "source": [
    "dict_a=[{\"name\":\"python\",\"points\":10},{\"name\":\"java\",\"points\":8}]\n",
    "print(list(filter(lambda x:x[\"name\"]==\"java\",dict_a)))"
   ]
  },
  {
   "cell_type": "markdown",
   "metadata": {},
   "source": [
    "# map"
   ]
  },
  {
   "cell_type": "code",
   "execution_count": null,
   "metadata": {},
   "outputs": [],
   "source": []
  },
  {
   "cell_type": "code",
   "execution_count": null,
   "metadata": {},
   "outputs": [],
   "source": []
  },
  {
   "cell_type": "markdown",
   "metadata": {},
   "source": [
    "# reducer"
   ]
  },
  {
   "cell_type": "code",
   "execution_count": 3,
   "metadata": {},
   "outputs": [
    {
     "name": "stdout",
     "output_type": "stream",
     "text": [
      "193\n"
     ]
    }
   ],
   "source": [
    "#it aggregates  or any kind of grouping kind of activities\n",
    "from functools import reduce as red\n",
    "li=[5,8,10,20,50,100]\n",
    "sum=red((lambda x,y:x+y),li)\n",
    "print(sum)"
   ]
  },
  {
   "cell_type": "code",
   "execution_count": 2,
   "metadata": {},
   "outputs": [],
   "source": [
    "#execution of reduce happens this way\n",
    "#here the results of previous two elements are added to the next element and this goes on till the end of the list like\n",
    "#(((((5+8)+10)+20)+50)+100)"
   ]
  },
  {
   "cell_type": "code",
   "execution_count": 14,
   "metadata": {},
   "outputs": [
    {
     "name": "stdout",
     "output_type": "stream",
     "text": [
      "the product of list elements is:[1, 3, 15, 90, 180]\n"
     ]
    }
   ],
   "source": [
    "import functools\n",
    "lis=[1,3,5,6,2]\n",
    "import operator\n",
    "print(\"the product of list elements is:\",end=\"\")\n",
    "#print(functools.reduce(operator.mul,lis))\n",
    "print(list(itertools.accumulate(lis,operator.mul)))"
   ]
  },
  {
   "cell_type": "markdown",
   "metadata": {},
   "source": [
    "# difference between reduce and accumulator"
   ]
  },
  {
   "cell_type": "code",
   "execution_count": 6,
   "metadata": {},
   "outputs": [],
   "source": [
    "#both reduce() and accumulate() can be used to calculate the summation of a sequence elements.\n",
    "#reduce() is defined in \"functools\" module, accumulate() in \"itertools\" module.\n",
    "#reduce() stores the intermediate result and only returns the final simulation value.\n",
    "#accumulate() returns a list containing the intermediate results. the last number of the list returned is summation value of \n",
    "#the list"
   ]
  },
  {
   "cell_type": "code",
   "execution_count": 7,
   "metadata": {},
   "outputs": [],
   "source": [
    "import itertools\n",
    "import functools\n",
    "lis=[1,3,4,10,4]"
   ]
  },
  {
   "cell_type": "code",
   "execution_count": 8,
   "metadata": {},
   "outputs": [
    {
     "name": "stdout",
     "output_type": "stream",
     "text": [
      "the summation of the list using accumulate is:[1, 4, 8, 18, 22]\n"
     ]
    }
   ],
   "source": [
    "print(\"the summation of the list using accumulate is:\",end=\"\")\n",
    "print(list(itertools.accumulate(lis,lambda x,y:x+y)))"
   ]
  },
  {
   "cell_type": "code",
   "execution_count": 9,
   "metadata": {},
   "outputs": [
    {
     "name": "stdout",
     "output_type": "stream",
     "text": [
      "the summation of list using reduce is:22\n"
     ]
    }
   ],
   "source": [
    "print(\"the summation of list using reduce is:\",end=\"\")\n",
    "print(functools.reduce(lambda x,y: x+y,lis))"
   ]
  },
  {
   "cell_type": "code",
   "execution_count": null,
   "metadata": {},
   "outputs": [],
   "source": []
  }
 ],
 "metadata": {
  "kernelspec": {
   "display_name": "Python 3",
   "language": "python",
   "name": "python3"
  },
  "language_info": {
   "codemirror_mode": {
    "name": "ipython",
    "version": 3
   },
   "file_extension": ".py",
   "mimetype": "text/x-python",
   "name": "python",
   "nbconvert_exporter": "python",
   "pygments_lexer": "ipython3",
   "version": "3.7.1"
  }
 },
 "nbformat": 4,
 "nbformat_minor": 2
}
