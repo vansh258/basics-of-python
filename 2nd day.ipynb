{
 "cells": [
  {
   "cell_type": "markdown",
   "metadata": {},
   "source": [
    "# conditional statement"
   ]
  },
  {
   "cell_type": "code",
   "execution_count": 2,
   "metadata": {},
   "outputs": [],
   "source": [
    "if(3>5):\n",
    "    print(\"3 is greater than 5\")\n",
    "#3 is not greater than 5, but there is no else condition. so there will be no output"
   ]
  },
  {
   "cell_type": "code",
   "execution_count": 3,
   "metadata": {},
   "outputs": [
    {
     "name": "stdout",
     "output_type": "stream",
     "text": [
      "not greater\n"
     ]
    }
   ],
   "source": [
    "#simple if else statement\n",
    "if(3>5):\n",
    "    print(\"3 is greater than 5\")\n",
    "else:\n",
    "    print(\"not greater\")"
   ]
  },
  {
   "cell_type": "code",
   "execution_count": 4,
   "metadata": {},
   "outputs": [
    {
     "name": "stdout",
     "output_type": "stream",
     "text": [
      "authenticate user\n"
     ]
    }
   ],
   "source": [
    "username=\"gl\"\n",
    "pwd=\"pwd123\"\n",
    "if((username==\"gl\")&(pwd==\"pwd123\")):\n",
    "    print(\"authenticate user\")\n",
    "else:\n",
    "    print(\"failure\")"
   ]
  },
  {
   "cell_type": "code",
   "execution_count": 6,
   "metadata": {},
   "outputs": [
    {
     "name": "stdout",
     "output_type": "stream",
     "text": [
      "failure\n"
     ]
    }
   ],
   "source": [
    "username=\"obl\"\n",
    "pwd=\"pwd124\"\n",
    "if((username==\"gl\")&(pwd==\"pwd123\")):\n",
    "    print(\"authenticate user\")\n",
    "else:\n",
    "    print(\"failure\")"
   ]
  },
  {
   "cell_type": "code",
   "execution_count": 7,
   "metadata": {},
   "outputs": [
    {
     "name": "stdout",
     "output_type": "stream",
     "text": [
      "it is even\n"
     ]
    }
   ],
   "source": [
    "i=24\n",
    "if(i%2==0):\n",
    "    print(\"it is even\")\n",
    "else:\n",
    "    print(\"it is odd\")"
   ]
  },
  {
   "cell_type": "code",
   "execution_count": 8,
   "metadata": {},
   "outputs": [
    {
     "name": "stdout",
     "output_type": "stream",
     "text": [
      "it is divisible by 3 and 9\n"
     ]
    }
   ],
   "source": [
    "i=27\n",
    "if((i%3==0)&(i%9==0)):\n",
    "    print(\"it is divisible by 3 and 9\")\n",
    "else:\n",
    "    print(\"it is not divisible by 3 and 9\")"
   ]
  },
  {
   "cell_type": "code",
   "execution_count": 13,
   "metadata": {},
   "outputs": [
    {
     "name": "stdout",
     "output_type": "stream",
     "text": [
      "a is the largest\n"
     ]
    }
   ],
   "source": [
    "a=100\n",
    "b=91\n",
    "c=60\n",
    "if(a>b and a>c):\n",
    "    print(\"a is the largest\")\n",
    "elif(b>a and b>c):\n",
    "    print(\"b is the largest\")\n",
    "else:\n",
    "    print(\"c is the largest\")"
   ]
  },
  {
   "cell_type": "code",
   "execution_count": 17,
   "metadata": {},
   "outputs": [
    {
     "name": "stdout",
     "output_type": "stream",
     "text": [
      "bronze\n"
     ]
    }
   ],
   "source": [
    "cust_cred=5000\n",
    "if(cust_cred>=50000):\n",
    "    print(\"diamond customer\")\n",
    "elif(cust_cred>=25000 and cust_cred<50000):\n",
    "    print(\"gold customer\")\n",
    "elif(cust_cred>=10000 and cust_cred<25000):\n",
    "    print(\"silver\")\n",
    "elif(10000>cust_cred>0):\n",
    "    print(\"bronze\")\n",
    "else:\n",
    "    print(\"enter amount greater than 0\")"
   ]
  },
  {
   "cell_type": "code",
   "execution_count": 18,
   "metadata": {},
   "outputs": [
    {
     "name": "stdout",
     "output_type": "stream",
     "text": [
      "enter your name:vanhs\n",
      "hello vanhs\n"
     ]
    }
   ],
   "source": [
    "person=input(\"enter your name:\")\n",
    "print(\"hello\",person)"
   ]
  },
  {
   "cell_type": "code",
   "execution_count": 26,
   "metadata": {},
   "outputs": [
    {
     "name": "stdout",
     "output_type": "stream",
     "text": [
      "enter the amount:20\n",
      "bronze\n"
     ]
    }
   ],
   "source": [
    "amt=int(input(\"enter the amount:\"))\n",
    "if(amt>=50000):\n",
    "    print(\"diamond customer\")\n",
    "elif(amt>=25000 and amt<50000):\n",
    "    print(\"gold customer\")\n",
    "elif(amt>=10000 and amt<25000):\n",
    "    print(\"silver\")\n",
    "elif(10000>amt>0):\n",
    "    print(\"bronze\")\n",
    "else:\n",
    "    print(\"enter amount greater than 0\")"
   ]
  },
  {
   "cell_type": "markdown",
   "metadata": {},
   "source": [
    "# for loop"
   ]
  },
  {
   "cell_type": "code",
   "execution_count": 29,
   "metadata": {},
   "outputs": [
    {
     "name": "stdout",
     "output_type": "stream",
     "text": [
      "[1, 2, 3, 4, 5]\n",
      "1\n",
      "2\n",
      "3\n",
      "4\n",
      "5\n"
     ]
    }
   ],
   "source": [
    "#simple for loop\n",
    "a=[1,2,3,4,5]\n",
    "print(a)\n",
    "for i in a:\n",
    "    print(i)"
   ]
  },
  {
   "cell_type": "code",
   "execution_count": 31,
   "metadata": {},
   "outputs": [
    {
     "name": "stdout",
     "output_type": "stream",
     "text": [
      "apple\n",
      "cherry\n",
      "banana\n"
     ]
    }
   ],
   "source": [
    "fruit=[\"apple\",\"cherry\",\"banana\"]\n",
    "for i in fruit:\n",
    "    print(i)"
   ]
  },
  {
   "cell_type": "code",
   "execution_count": 33,
   "metadata": {},
   "outputs": [
    {
     "name": "stdout",
     "output_type": "stream",
     "text": [
      "1\n",
      "2\n",
      "3\n",
      "4\n",
      "5\n",
      "6\n",
      "7\n",
      "8\n",
      "9\n"
     ]
    }
   ],
   "source": [
    "for i in range(1,10):\n",
    "    print(i)"
   ]
  },
  {
   "cell_type": "code",
   "execution_count": 34,
   "metadata": {},
   "outputs": [
    {
     "name": "stdout",
     "output_type": "stream",
     "text": [
      "0\n",
      "2\n",
      "4\n",
      "6\n",
      "8\n"
     ]
    }
   ],
   "source": [
    "for i in range(0,10,2):\n",
    "    print(i)"
   ]
  },
  {
   "cell_type": "code",
   "execution_count": 35,
   "metadata": {},
   "outputs": [
    {
     "name": "stdout",
     "output_type": "stream",
     "text": [
      "5\n",
      "6\n",
      "7\n",
      "8\n",
      "9\n",
      "10\n",
      "11\n",
      "12\n",
      "13\n",
      "14\n",
      "15\n",
      "16\n",
      "17\n",
      "18\n",
      "19\n",
      "20\n",
      "21\n",
      "22\n",
      "23\n",
      "24\n",
      "25\n",
      "26\n",
      "27\n",
      "28\n",
      "29\n",
      "30\n",
      "31\n",
      "32\n",
      "33\n",
      "34\n",
      "35\n",
      "36\n",
      "37\n",
      "38\n",
      "39\n",
      "40\n",
      "41\n",
      "42\n",
      "43\n",
      "44\n",
      "45\n",
      "46\n",
      "47\n",
      "48\n",
      "49\n",
      "50\n",
      "51\n",
      "52\n",
      "53\n",
      "54\n",
      "55\n"
     ]
    }
   ],
   "source": [
    "for i in range(5,56):\n",
    "    print(i)"
   ]
  },
  {
   "cell_type": "code",
   "execution_count": 48,
   "metadata": {},
   "outputs": [
    {
     "name": "stdout",
     "output_type": "stream",
     "text": [
      "[0, 2, 4, 6, 8, 10, 12, 14, 16, 18, 20, 22, 24, 26, 28, 30, 32, 34, 36, 38, 40, 42, 44, 46, 48, 50, 52, 54, 56, 58, 60, 62, 64, 66, 68, 70, 72, 74, 76, 78, 80, 82, 84, 86, 88, 90, 92, 94, 96, 98]\n",
      "[1, 3, 5, 7, 9, 11, 13, 15, 17, 19, 21, 23, 25, 27, 29, 31, 33, 35, 37, 39, 41, 43, 45, 47, 49, 51, 53, 55, 57, 59, 61, 63, 65, 67, 69, 71, 73, 75, 77, 79, 81, 83, 85, 87, 89, 91, 93, 95, 97]\n"
     ]
    }
   ],
   "source": [
    "#get the list of all even number seprately and list of all odd number seprately\n",
    "even=[]\n",
    "odd=[]\n",
    "for i in range(0,99):\n",
    "    if(i%2==0):\n",
    "        #print(\"this is even:\",i)\n",
    "        even.append(i)\n",
    "    else:\n",
    "        #print(\"this is odd:\",i)\n",
    "        odd.append(i)\n",
    "        \n",
    "print(even)\n",
    "print(odd)"
   ]
  },
  {
   "cell_type": "code",
   "execution_count": 45,
   "metadata": {},
   "outputs": [
    {
     "data": {
      "text/plain": [
       "2450"
      ]
     },
     "execution_count": 45,
     "metadata": {},
     "output_type": "execute_result"
    }
   ],
   "source": [
    "sum(even)"
   ]
  },
  {
   "cell_type": "code",
   "execution_count": 50,
   "metadata": {},
   "outputs": [
    {
     "data": {
      "text/plain": [
       "2401"
      ]
     },
     "execution_count": 50,
     "metadata": {},
     "output_type": "execute_result"
    }
   ],
   "source": [
    "sum(odd)"
   ]
  },
  {
   "cell_type": "code",
   "execution_count": 58,
   "metadata": {},
   "outputs": [
    {
     "name": "stdout",
     "output_type": "stream",
     "text": [
      "560\n",
      "1155\n",
      "1785\n",
      "2450\n",
      "3150\n",
      "3885\n",
      "4655\n",
      "5460\n",
      "6300\n",
      "7175\n",
      "8085\n",
      "9030\n",
      "10010\n",
      "11025\n",
      "12075\n",
      "13160\n"
     ]
    }
   ],
   "source": [
    "first=[]\n",
    "for i in range(555,1112):\n",
    "    if(i%5==0 and i%7==0):\n",
    "        first.append(i)\n",
    "        print(sum(first))\n"
   ]
  },
  {
   "cell_type": "code",
   "execution_count": 55,
   "metadata": {},
   "outputs": [
    {
     "name": "stdout",
     "output_type": "stream",
     "text": [
      "[560, 595, 630, 665, 700, 735, 770, 805, 840, 875, 910, 945, 980, 1015, 1050, 1085]\n"
     ]
    }
   ],
   "source": [
    "print(first)"
   ]
  },
  {
   "cell_type": "code",
   "execution_count": 56,
   "metadata": {},
   "outputs": [
    {
     "name": "stdout",
     "output_type": "stream",
     "text": [
      "i am learning python 10 times\n",
      "i am learning python 10 times\n",
      "i am learning python 10 times\n",
      "i am learning python 10 times\n",
      "i am learning python 10 times\n",
      "i am learning python 10 times\n",
      "i am learning python 10 times\n",
      "i am learning python 10 times\n",
      "i am learning python 10 times\n",
      "i am learning python 10 times\n"
     ]
    }
   ],
   "source": [
    "for i in range(0,10):\n",
    "    print(\"i am learning python 10 times\")"
   ]
  },
  {
   "cell_type": "code",
   "execution_count": 60,
   "metadata": {},
   "outputs": [
    {
     "name": "stdout",
     "output_type": "stream",
     "text": [
      "2450\n"
     ]
    }
   ],
   "source": [
    "even=[]\n",
    "odd=[]\n",
    "k=0\n",
    "for i in range(0,99):\n",
    "    if(i%2==0):\n",
    "        k=k+i\n",
    "print(k)\n",
    "     \n",
    "        \n"
   ]
  },
  {
   "cell_type": "code",
   "execution_count": 62,
   "metadata": {},
   "outputs": [
    {
     "name": "stdout",
     "output_type": "stream",
     "text": [
      "value of x: 1\n",
      "value of x: 2\n",
      "value of x: 3\n",
      "value of x: 4\n",
      "i have exited the loop\n"
     ]
    }
   ],
   "source": [
    "#if and break statement\n",
    "for x in range(1,10):\n",
    "    print(\"value of x:\",x)\n",
    "    if(x==4):\n",
    "        break\n",
    "print(\"i have exited the loop\")\n"
   ]
  },
  {
   "cell_type": "code",
   "execution_count": 63,
   "metadata": {},
   "outputs": [
    {
     "name": "stdout",
     "output_type": "stream",
     "text": [
      "value of x: 1\n",
      "value of x: 2\n",
      "value of x: 3\n",
      "value of x: 4\n",
      "i have found\n",
      "value of x: 5\n",
      "value of x: 6\n",
      "value of x: 7\n",
      "value of x: 8\n",
      "value of x: 9\n"
     ]
    }
   ],
   "source": [
    "#if and continue statement\n",
    "for x in range(1,10):\n",
    "    print(\"value of x:\",x)\n",
    "    if(x==4):\n",
    "        print(\"i have found\")\n",
    "    continue"
   ]
  },
  {
   "cell_type": "code",
   "execution_count": 64,
   "metadata": {},
   "outputs": [
    {
     "data": {
      "text/plain": [
       "1275"
      ]
     },
     "execution_count": 64,
     "metadata": {},
     "output_type": "execute_result"
    }
   ],
   "source": [
    "sum(range(1,51))"
   ]
  },
  {
   "cell_type": "markdown",
   "metadata": {},
   "source": [
    "# while loop"
   ]
  },
  {
   "cell_type": "code",
   "execution_count": 65,
   "metadata": {},
   "outputs": [
    {
     "name": "stdout",
     "output_type": "stream",
     "text": [
      "0\n",
      "1\n",
      "2\n",
      "3\n",
      "4\n"
     ]
    }
   ],
   "source": [
    "#while loop gets executed until the condition is satisfied\n",
    "k=0\n",
    "while k<5:\n",
    "    print(k)\n",
    "    k+=1"
   ]
  },
  {
   "cell_type": "code",
   "execution_count": 3,
   "metadata": {},
   "outputs": [
    {
     "name": "stdout",
     "output_type": "stream",
     "text": [
      "0\n",
      "1\n",
      "2\n",
      "loop is break\n"
     ]
    }
   ],
   "source": [
    "c=0\n",
    "while c<5:\n",
    "    print(c)\n",
    "    c+=1\n",
    "    if(c==3):\n",
    "        break"
   ]
  },
  {
   "cell_type": "code",
   "execution_count": null,
   "metadata": {},
   "outputs": [],
   "source": []
  }
 ],
 "metadata": {
  "kernelspec": {
   "display_name": "Python 3",
   "language": "python",
   "name": "python3"
  },
  "language_info": {
   "codemirror_mode": {
    "name": "ipython",
    "version": 3
   },
   "file_extension": ".py",
   "mimetype": "text/x-python",
   "name": "python",
   "nbconvert_exporter": "python",
   "pygments_lexer": "ipython3",
   "version": "3.7.1"
  }
 },
 "nbformat": 4,
 "nbformat_minor": 2
}
