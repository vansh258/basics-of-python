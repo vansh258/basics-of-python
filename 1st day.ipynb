{
 "cells": [
  {
   "cell_type": "markdown",
   "metadata": {},
   "source": [
    "# Introduction to python"
   ]
  },
  {
   "cell_type": "code",
   "execution_count": 11,
   "metadata": {},
   "outputs": [],
   "source": [
    "## This is a comment line\n",
    "# this is a single line comment\n"
   ]
  },
  {
   "cell_type": "code",
   "execution_count": 4,
   "metadata": {},
   "outputs": [
    {
     "data": {
      "text/plain": [
       "'\\nwelcome to\\npython programming\\n'"
      ]
     },
     "execution_count": 4,
     "metadata": {},
     "output_type": "execute_result"
    }
   ],
   "source": [
    "# example for multi line comment\n",
    "\"\"\"\n",
    "welcome to\n",
    "python programming\n",
    "\"\"\""
   ]
  },
  {
   "cell_type": "code",
   "execution_count": 6,
   "metadata": {},
   "outputs": [
    {
     "name": "stdout",
     "output_type": "stream",
     "text": [
      "hello, i am learning python!!\n",
      "hello, i am learning python!!\n"
     ]
    }
   ],
   "source": [
    "print(\"hello, i am learning python!!\")\n",
    "print(\"hello, i am learning python!!\")"
   ]
  },
  {
   "cell_type": "code",
   "execution_count": 7,
   "metadata": {},
   "outputs": [
    {
     "name": "stdout",
     "output_type": "stream",
     "text": [
      "hello, i am learning python\n"
     ]
    }
   ],
   "source": [
    "print('hello, i am learning python')"
   ]
  },
  {
   "cell_type": "code",
   "execution_count": 8,
   "metadata": {},
   "outputs": [
    {
     "name": "stdout",
     "output_type": "stream",
     "text": [
      "22\n"
     ]
    }
   ],
   "source": [
    "age=22\n",
    "print(age)"
   ]
  },
  {
   "cell_type": "code",
   "execution_count": 9,
   "metadata": {},
   "outputs": [
    {
     "name": "stdout",
     "output_type": "stream",
     "text": [
      "vansh\n"
     ]
    }
   ],
   "source": [
    "name=\"vansh\"\n",
    "print(name)"
   ]
  },
  {
   "cell_type": "code",
   "execution_count": 10,
   "metadata": {},
   "outputs": [
    {
     "name": "stdout",
     "output_type": "stream",
     "text": [
      "56.5\n"
     ]
    }
   ],
   "source": [
    "weight=56.5\n",
    "print(weight)"
   ]
  },
  {
   "cell_type": "code",
   "execution_count": 12,
   "metadata": {},
   "outputs": [
    {
     "name": "stdout",
     "output_type": "stream",
     "text": [
      "age\n"
     ]
    }
   ],
   "source": [
    " print(\"age\")"
   ]
  },
  {
   "cell_type": "code",
   "execution_count": 13,
   "metadata": {},
   "outputs": [
    {
     "ename": "IndentationError",
     "evalue": "unexpected indent (<ipython-input-13-7b288809dead>, line 2)",
     "output_type": "error",
     "traceback": [
      "\u001b[1;36m  File \u001b[1;32m\"<ipython-input-13-7b288809dead>\"\u001b[1;36m, line \u001b[1;32m2\u001b[0m\n\u001b[1;33m    name\u001b[0m\n\u001b[1;37m    ^\u001b[0m\n\u001b[1;31mIndentationError\u001b[0m\u001b[1;31m:\u001b[0m unexpected indent\n"
     ]
    }
   ],
   "source": [
    " name=20\n",
    "    name"
   ]
  },
  {
   "cell_type": "code",
   "execution_count": 14,
   "metadata": {},
   "outputs": [
    {
     "data": {
      "text/plain": [
       "45"
      ]
     },
     "execution_count": 14,
     "metadata": {},
     "output_type": "execute_result"
    }
   ],
   "source": [
    "sentence=\"hello guys, i am learning python and its cool\"\n",
    "len(sentence)"
   ]
  },
  {
   "cell_type": "code",
   "execution_count": 15,
   "metadata": {},
   "outputs": [
    {
     "data": {
      "text/plain": [
       "'h'"
      ]
     },
     "execution_count": 15,
     "metadata": {},
     "output_type": "execute_result"
    }
   ],
   "source": [
    "sentence[0]"
   ]
  },
  {
   "cell_type": "code",
   "execution_count": 28,
   "metadata": {},
   "outputs": [
    {
     "name": "stdout",
     "output_type": "stream",
     "text": [
      "vansh\n",
      "dhingra\n",
      "vanshdhingra\n",
      "vansh dhingra\n"
     ]
    },
    {
     "data": {
      "text/plain": [
       "str"
      ]
     },
     "execution_count": 28,
     "metadata": {},
     "output_type": "execute_result"
    }
   ],
   "source": [
    "#create 2 string f_nm and l_nm\n",
    "#print both the variable names\n",
    "#add f_nm and l_nm and store in a variable nm\n",
    "f_nm=\"vansh\"\n",
    "l_nm=\"dhingra\"\n",
    "print(f_nm)\n",
    "print(l_nm)\n",
    "nm=f_nm+l_nm\n",
    "print(nm)\n",
    "nm=f_nm + \" \"+ l_nm # + is concatination in string not addition\n",
    "print(nm)\n",
    "type(nm)"
   ]
  },
  {
   "cell_type": "code",
   "execution_count": 1,
   "metadata": {},
   "outputs": [
    {
     "name": "stdout",
     "output_type": "stream",
     "text": [
      "7\n"
     ]
    },
    {
     "data": {
      "text/plain": [
       "int"
      ]
     },
     "execution_count": 1,
     "metadata": {},
     "output_type": "execute_result"
    }
   ],
   "source": [
    "a=3\n",
    "b=4\n",
    "c=a+b\n",
    "print(c)\n",
    "type(c)\n"
   ]
  },
  {
   "cell_type": "code",
   "execution_count": 36,
   "metadata": {},
   "outputs": [
    {
     "name": "stdout",
     "output_type": "stream",
     "text": [
      "7\n"
     ]
    },
    {
     "data": {
      "text/plain": [
       "int"
      ]
     },
     "execution_count": 36,
     "metadata": {},
     "output_type": "execute_result"
    }
   ],
   "source": [
    "f1=4.2\n",
    "f2=3.6\n",
    "f=a+b\n",
    "print(f)\n",
    "type(f)"
   ]
  },
  {
   "cell_type": "markdown",
   "metadata": {},
   "source": [
    "## multiple assignment"
   ]
  },
  {
   "cell_type": "code",
   "execution_count": 38,
   "metadata": {},
   "outputs": [
    {
     "name": "stdout",
     "output_type": "stream",
     "text": [
      "6\n"
     ]
    }
   ],
   "source": [
    "a,b,c= 1,2,3\n",
    "out= a+b+c\n",
    "print(out)"
   ]
  },
  {
   "cell_type": "code",
   "execution_count": 39,
   "metadata": {},
   "outputs": [
    {
     "name": "stdout",
     "output_type": "stream",
     "text": [
      "3.0\n"
     ]
    },
    {
     "data": {
      "text/plain": [
       "float"
      ]
     },
     "execution_count": 39,
     "metadata": {},
     "output_type": "execute_result"
    }
   ],
   "source": [
    "a=6\n",
    "b=2\n",
    "c=a/b\n",
    "print(c)\n",
    "type(c)\n"
   ]
  },
  {
   "cell_type": "code",
   "execution_count": 43,
   "metadata": {},
   "outputs": [
    {
     "name": "stdout",
     "output_type": "stream",
     "text": [
      "vansh 22 male\n"
     ]
    }
   ],
   "source": [
    "# create a multiple variable with multiple values \n",
    "#nm, age and gender\n",
    "#print all the values\n",
    "nm,age,gender=\"vansh\",22,\"male\"\n",
    "print(nm,age,gender)"
   ]
  },
  {
   "cell_type": "code",
   "execution_count": 46,
   "metadata": {},
   "outputs": [
    {
     "name": "stdout",
     "output_type": "stream",
     "text": [
      "8\n",
      "8\n",
      "8\n"
     ]
    }
   ],
   "source": [
    "# assign same values for multiple variables\n",
    "a1=a2=a3=8\n",
    "print(a1)\n",
    "print(a2)\n",
    "print(a3)"
   ]
  },
  {
   "cell_type": "code",
   "execution_count": 49,
   "metadata": {},
   "outputs": [
    {
     "name": "stdout",
     "output_type": "stream",
     "text": [
      "<class 'str'> <class 'int'> <class 'str'> <class 'float'>\n",
      "my name is: vansh\n",
      "my age is: 22\n",
      "i live in: new delhi\n",
      "my height is: 5.7\n"
     ]
    }
   ],
   "source": [
    "#create a multiple variable nm,age,city,height and \n",
    "#assign value\n",
    "#print the data types of all the variables\n",
    "#print all the values with its respective text\n",
    "nm,age,city,height=\"vansh\",22,\"new delhi\",5.7\n",
    "print(type(nm),type(age),type(city),type(height))\n",
    "print(\"my name is:\",nm)\n",
    "print('my age is:',age)\n",
    "print(\"i live in:\", city)\n",
    "print('my height is:',height)"
   ]
  },
  {
   "cell_type": "markdown",
   "metadata": {},
   "source": [
    "## type casting"
   ]
  },
  {
   "cell_type": "code",
   "execution_count": 52,
   "metadata": {},
   "outputs": [
    {
     "name": "stdout",
     "output_type": "stream",
     "text": [
      "3.45\n",
      "<class 'float'>\n",
      "<class 'int'>\n"
     ]
    },
    {
     "data": {
      "text/plain": [
       "3"
      ]
     },
     "execution_count": 52,
     "metadata": {},
     "output_type": "execute_result"
    }
   ],
   "source": [
    "# create a variable c and store the value 3.45\n",
    "# display the c's data type\n",
    "# typcast c from float to int\n",
    "c=3.45\n",
    "print(c)\n",
    "print(type(c))\n",
    "print(type(int(c)))\n",
    "int(c)"
   ]
  },
  {
   "cell_type": "code",
   "execution_count": 63,
   "metadata": {},
   "outputs": [
    {
     "name": "stdout",
     "output_type": "stream",
     "text": [
      "<class 'float'>\n",
      "2\n"
     ]
    },
    {
     "data": {
      "text/plain": [
       "'great learning great learning '"
      ]
     },
     "execution_count": 63,
     "metadata": {},
     "output_type": "execute_result"
    }
   ],
   "source": [
    "# create 3 variable float a,int b and string c\n",
    "#assign any values to it\n",
    "#do division on a and b, print the output and its data type\n",
    "# typecast the divider output as integer and store it in d\n",
    "#apply multiplication on d and c\n",
    "#find what is the outcome?\n",
    "a,b,c= 6.25,3,\"great learning\"\n",
    "print(type(a/b))\n",
    "d=int(a/b)\n",
    "print(d)\n",
    "d*(c+\" \")\n"
   ]
  },
  {
   "cell_type": "code",
   "execution_count": 2,
   "metadata": {},
   "outputs": [
    {
     "name": "stdout",
     "output_type": "stream",
     "text": [
      "13\n",
      "greatlearning\n",
      "g\n",
      "tlearning\n",
      "tlearning\n",
      "learnin\n"
     ]
    }
   ],
   "source": [
    "# data slicing, uses index and it starts from 0\n",
    "nm=\"greatlearning\"\n",
    "print(len(nm))\n",
    "print(nm)\n",
    "print(nm[0])\n",
    "print(nm[4:len(nm)])\n",
    "print(nm[4:])\n",
    "print(nm[5:len(nm)-1])\n"
   ]
  },
  {
   "cell_type": "code",
   "execution_count": 73,
   "metadata": {},
   "outputs": [
    {
     "name": "stdout",
     "output_type": "stream",
     "text": [
      "my bmi is 19.681483\n",
      "my bmi is: 19.681482891591312\n"
     ]
    }
   ],
   "source": [
    "height=1.7018\n",
    "weight=57\n",
    "bmi=weight/(height)**2\n",
    "print(\"my bmi is %f\" %bmi)\n",
    "print(\"my bmi is:\",bmi)"
   ]
  },
  {
   "cell_type": "code",
   "execution_count": 3,
   "metadata": {},
   "outputs": [
    {
     "name": "stdout",
     "output_type": "stream",
     "text": [
      "my simple interest is 28999.999999999996 for 8\n"
     ]
    }
   ],
   "source": [
    "#simple interest= principal*interest rate* term of loan\n",
    "principal=50000\n",
    "numb=8\n",
    "interest=7.25/100\n",
    "si=principal*numb*interest\n",
    "si\n",
    "print(\"my simple interest is \" + str(si)+ \" for \"+ str(numb) )"
   ]
  },
  {
   "cell_type": "code",
   "execution_count": 80,
   "metadata": {},
   "outputs": [
    {
     "data": {
      "text/plain": [
       "False"
      ]
     },
     "execution_count": 80,
     "metadata": {},
     "output_type": "execute_result"
    }
   ],
   "source": [
    "# input variable in n and its value is 14\n",
    "# check if the value is 12 or not\n",
    "# use the logical operator\n",
    "n=14\n",
    "n==12"
   ]
  },
  {
   "cell_type": "code",
   "execution_count": 5,
   "metadata": {},
   "outputs": [
    {
     "data": {
      "text/plain": [
       "False"
      ]
     },
     "execution_count": 5,
     "metadata": {},
     "output_type": "execute_result"
    }
   ],
   "source": [
    "age=17\n",
    "gender=\"male\"\n",
    "(age>18) | (gender==\"male\")"
   ]
  },
  {
   "cell_type": "code",
   "execution_count": 89,
   "metadata": {},
   "outputs": [
    {
     "data": {
      "text/plain": [
       "'eddy you are welcome'"
      ]
     },
     "execution_count": 89,
     "metadata": {},
     "output_type": "execute_result"
    }
   ],
   "source": [
    "nm=\"eddy\"\n",
    "greet=(\"%s you are welcome\")\n",
    "greet%(nm)"
   ]
  },
  {
   "cell_type": "code",
   "execution_count": 91,
   "metadata": {},
   "outputs": [
    {
     "data": {
      "text/plain": [
       "'you are eddy and you are welcome'"
      ]
     },
     "execution_count": 91,
     "metadata": {},
     "output_type": "execute_result"
    }
   ],
   "source": [
    "greet2=(\"you are %s and you are welcome\")\n",
    "greet2%nm"
   ]
  },
  {
   "cell_type": "code",
   "execution_count": 92,
   "metadata": {},
   "outputs": [
    {
     "data": {
      "text/plain": [
       "'vansh dhingra is a company'"
      ]
     },
     "execution_count": 92,
     "metadata": {},
     "output_type": "execute_result"
    }
   ],
   "source": [
    "greet3=(\"%s %s is a company\")\n",
    "greet3%(\"vansh\",\"dhingra\")"
   ]
  },
  {
   "cell_type": "code",
   "execution_count": 96,
   "metadata": {},
   "outputs": [
    {
     "data": {
      "text/plain": [
       "'vansh is my first name and dhingra is my last name'"
      ]
     },
     "execution_count": 96,
     "metadata": {},
     "output_type": "execute_result"
    }
   ],
   "source": [
    "greet4=(\"%s is my first name and %s is my last name\")\n",
    "greet4% (\"vansh\", \"dhingra\")"
   ]
  },
  {
   "cell_type": "code",
   "execution_count": 100,
   "metadata": {},
   "outputs": [
    {
     "name": "stdout",
     "output_type": "stream",
     "text": [
      "vansh is my first name dhingra is my last name\n"
     ]
    }
   ],
   "source": [
    "nm=\"vansh\",\"dhingra\"\n",
    "print(\"%s is my first name %s is my last name\"%nm)"
   ]
  },
  {
   "cell_type": "markdown",
   "metadata": {},
   "source": [
    "# tuples denoted by()"
   ]
  },
  {
   "cell_type": "code",
   "execution_count": 101,
   "metadata": {},
   "outputs": [
    {
     "name": "stdout",
     "output_type": "stream",
     "text": [
      "<class 'tuple'>\n"
     ]
    }
   ],
   "source": [
    "name=(\"vansh\",\"dhingra\")\n",
    "print(type(name))"
   ]
  },
  {
   "cell_type": "code",
   "execution_count": 2,
   "metadata": {},
   "outputs": [
    {
     "name": "stdout",
     "output_type": "stream",
     "text": [
      "('apple', 'cherry', 'cherry', 'banana', 'grapes')\n",
      "('apple', 'cherry', 'cherry', 'banana', 'grapes', 25, 35, 35, 25, 10)\n",
      "('apple', 'cherry', 'cherry', 'banana', 'grapes', 'apple', 'cherry', 'cherry', 'banana', 'grapes', 25, 35, 35, 25, 10)\n"
     ]
    }
   ],
   "source": [
    "fruits=(\"apple\",\"cherry\",\"cherry\",\"banana\",\"grapes\")\n",
    "print(fruits)\n",
    "type(fruits)\n",
    "fruits[0:len(fruits)-2]\n",
    "price=(25,35,35,25,10)\n",
    "out_tuple=fruits+ price\n",
    "print(out_tuple)\n",
    "fruits= fruits+ out_tuple\n",
    "print(fruits)"
   ]
  },
  {
   "cell_type": "code",
   "execution_count": 20,
   "metadata": {},
   "outputs": [
    {
     "name": "stdout",
     "output_type": "stream",
     "text": [
      "element of my tuple t1 is ('vansh', 22, 'new delhi')\n",
      "my name is vansh\n",
      "my age is:22\n",
      "my name is vansh\n"
     ]
    }
   ],
   "source": [
    "t1=(\"vansh\",22,\"new delhi\")\n",
    "print(\"element of my tuple t1 is\", t1 )\n",
    "print(\"my name is %s\"%t1[0])\n",
    "print(\"my age is:{}\".format(t1[1]))\n",
    "print(\"my name is {}\".format(t1[0]))"
   ]
  },
  {
   "cell_type": "code",
   "execution_count": 29,
   "metadata": {},
   "outputs": [
    {
     "name": "stdout",
     "output_type": "stream",
     "text": [
      "[5, 25, 40, 45]\n",
      "(40, 25, 45, 5)\n"
     ]
    },
    {
     "ename": "TypeError",
     "evalue": "'tuple' object doesn't support item deletion",
     "output_type": "error",
     "traceback": [
      "\u001b[1;31m---------------------------------------------------------------------------\u001b[0m",
      "\u001b[1;31mTypeError\u001b[0m                                 Traceback (most recent call last)",
      "\u001b[1;32m<ipython-input-29-b8792e304f64>\u001b[0m in \u001b[0;36m<module>\u001b[1;34m\u001b[0m\n\u001b[0;32m      2\u001b[0m \u001b[0mprint\u001b[0m\u001b[1;33m(\u001b[0m\u001b[0msorted\u001b[0m\u001b[1;33m(\u001b[0m\u001b[0mage\u001b[0m\u001b[1;33m)\u001b[0m\u001b[1;33m)\u001b[0m\u001b[1;33m\u001b[0m\u001b[1;33m\u001b[0m\u001b[0m\n\u001b[0;32m      3\u001b[0m \u001b[0mprint\u001b[0m\u001b[1;33m(\u001b[0m\u001b[0mage\u001b[0m\u001b[1;33m)\u001b[0m\u001b[1;33m\u001b[0m\u001b[1;33m\u001b[0m\u001b[0m\n\u001b[1;32m----> 4\u001b[1;33m \u001b[1;32mdel\u001b[0m \u001b[0mage\u001b[0m\u001b[1;33m[\u001b[0m\u001b[1;36m1\u001b[0m\u001b[1;33m]\u001b[0m\u001b[1;31m# cant delete a single element from tupile, we can delete the whole tupile\u001b[0m\u001b[1;33m\u001b[0m\u001b[1;33m\u001b[0m\u001b[0m\n\u001b[0m\u001b[0;32m      5\u001b[0m \u001b[1;33m\u001b[0m\u001b[0m\n",
      "\u001b[1;31mTypeError\u001b[0m: 'tuple' object doesn't support item deletion"
     ]
    }
   ],
   "source": [
    "age=(40,25,45,5)\n",
    "print(sorted(age))\n",
    "print(age)\n",
    "del age[1]# cant delete a single element from tupile, we can delete the whole tupile\n",
    "\n"
   ]
  },
  {
   "cell_type": "code",
   "execution_count": 111,
   "metadata": {},
   "outputs": [
    {
     "name": "stdout",
     "output_type": "stream",
     "text": [
      "[45, 40, 25, 5]\n"
     ]
    }
   ],
   "source": [
    "print(sorted(age, reverse=True))"
   ]
  },
  {
   "cell_type": "code",
   "execution_count": 113,
   "metadata": {},
   "outputs": [
    {
     "name": "stdout",
     "output_type": "stream",
     "text": [
      "(1, 2, 3, 4)\n"
     ]
    }
   ],
   "source": [
    "t1=(1,2)\n",
    "t2=(3,4)\n",
    "t1=t1+t2\n",
    "print(t1)"
   ]
  },
  {
   "cell_type": "code",
   "execution_count": 114,
   "metadata": {},
   "outputs": [
    {
     "ename": "TypeError",
     "evalue": "'tuple' object does not support item assignment",
     "output_type": "error",
     "traceback": [
      "\u001b[1;31m---------------------------------------------------------------------------\u001b[0m",
      "\u001b[1;31mTypeError\u001b[0m                                 Traceback (most recent call last)",
      "\u001b[1;32m<ipython-input-114-7f475d0b3941>\u001b[0m in \u001b[0;36m<module>\u001b[1;34m\u001b[0m\n\u001b[1;32m----> 1\u001b[1;33m \u001b[0mt1\u001b[0m\u001b[1;33m[\u001b[0m\u001b[1;36m1\u001b[0m\u001b[1;33m]\u001b[0m\u001b[1;33m=\u001b[0m\u001b[1;36m5\u001b[0m\u001b[1;33m\u001b[0m\u001b[1;33m\u001b[0m\u001b[0m\n\u001b[0m",
      "\u001b[1;31mTypeError\u001b[0m: 'tuple' object does not support item assignment"
     ]
    }
   ],
   "source": [
    "#cant update or add elements to tupil\n",
    "t1[1]=5"
   ]
  },
  {
   "cell_type": "markdown",
   "metadata": {},
   "source": [
    "\n",
    "# set- denoted by {}"
   ]
  },
  {
   "cell_type": "code",
   "execution_count": 4,
   "metadata": {},
   "outputs": [
    {
     "name": "stdout",
     "output_type": "stream",
     "text": [
      "{'apple', 'banana', 'grapes', 'cherry'}\n"
     ]
    }
   ],
   "source": [
    "#add new objects to set\n",
    "ss={\"apple\",\"banana\",\"apple\",\"cherry\",\"grapes\",\"grapes\"}\n",
    "print(ss)#removes duplicate entries\n",
    "ss.add(\"mango\")\n",
    "ss.remove(\"banana\")# to delete a item in set use\"remove\"\n",
    "ss"
   ]
  },
  {
   "cell_type": "markdown",
   "metadata": {},
   "source": [
    "# list is denoted by[]"
   ]
  },
  {
   "cell_type": "code",
   "execution_count": 50,
   "metadata": {},
   "outputs": [
    {
     "name": "stdout",
     "output_type": "stream",
     "text": [
      "['apple', 'banana', 'apple', 'cherry', 'grapes', 'grapes', 'berry']\n"
     ]
    }
   ],
   "source": [
    "fruits=[\"apple\",\"banana\",\"apple\",\"cherry\",\"grapes\",\"grapes\"]\n",
    "fruits.append(\"berry\")\n",
    "print(fruits)"
   ]
  },
  {
   "cell_type": "code",
   "execution_count": 51,
   "metadata": {},
   "outputs": [
    {
     "name": "stdout",
     "output_type": "stream",
     "text": [
      "['apple', 'banana', 'cherry', 'grapes', 'grapes', 'berry']\n"
     ]
    }
   ],
   "source": [
    "del fruits[2]\n",
    "print(fruits)"
   ]
  },
  {
   "cell_type": "code",
   "execution_count": 58,
   "metadata": {},
   "outputs": [],
   "source": [
    "snack=[\"chocolate\",\"jam\",\"nuts\",\"apple\"]"
   ]
  },
  {
   "cell_type": "code",
   "execution_count": 59,
   "metadata": {},
   "outputs": [
    {
     "data": {
      "text/plain": [
       "False"
      ]
     },
     "execution_count": 59,
     "metadata": {},
     "output_type": "execute_result"
    }
   ],
   "source": [
    "len(snack)== len(fruits)"
   ]
  },
  {
   "cell_type": "code",
   "execution_count": 60,
   "metadata": {},
   "outputs": [
    {
     "name": "stdout",
     "output_type": "stream",
     "text": [
      "['apple', 'banana', 'cherry', 'grapes', 'grapes', 'berry', 'chocolate', 'jam', 'nuts', 'apple']\n"
     ]
    }
   ],
   "source": [
    "new= fruits+snack\n",
    "print(new)"
   ]
  },
  {
   "cell_type": "code",
   "execution_count": 61,
   "metadata": {},
   "outputs": [
    {
     "data": {
      "text/plain": [
       "{'apple', 'banana', 'berry', 'cherry', 'chocolate', 'grapes', 'jam', 'nuts'}"
      ]
     },
     "execution_count": 61,
     "metadata": {},
     "output_type": "execute_result"
    }
   ],
   "source": [
    "set(new)"
   ]
  },
  {
   "cell_type": "code",
   "execution_count": 62,
   "metadata": {},
   "outputs": [
    {
     "name": "stdout",
     "output_type": "stream",
     "text": [
      "118\n",
      "3\n",
      "91\n",
      "6\n"
     ]
    }
   ],
   "source": [
    "numbers=[3,5,6,7,91,6]\n",
    "print(sum(numbers))\n",
    "print(min(numbers))\n",
    "print(max(numbers))\n",
    "print(len(numbers))"
   ]
  },
  {
   "cell_type": "code",
   "execution_count": 63,
   "metadata": {},
   "outputs": [
    {
     "name": "stdout",
     "output_type": "stream",
     "text": [
      "[3, 5, 6, 6, 7, 91]\n"
     ]
    }
   ],
   "source": [
    "numbers.sort()\n",
    "print(numbers)"
   ]
  },
  {
   "cell_type": "code",
   "execution_count": 68,
   "metadata": {},
   "outputs": [
    {
     "name": "stdout",
     "output_type": "stream",
     "text": [
      "['apple', 'banana', 'cherry', 'grapes', 'grapes', 'berry']\n",
      "apple\n",
      "banana\n",
      "cherry\n",
      "grapes\n",
      "grapes\n",
      "berry\n",
      "apple\tbanana\tcherry\tgrapes\tgrapes\tberry\n",
      "hey there\n",
      "how are you doing?\n",
      "its raining here\n",
      "hey there\thow are you doing?\tits raining here\n"
     ]
    }
   ],
   "source": [
    "#joining list\n",
    "#adding a symbol,newline,tab before each element in the list\n",
    "print(fruits)\n",
    "#add a new line for each object\n",
    "aw= \"\\n\".join(fruits)\n",
    "print(aw)\n",
    "#add a tab before each object\n",
    "aw=\"\\t\".join(fruits)\n",
    "print(aw)\n",
    "aww=\"\\n\".join([\"hey there\",\"how are you doing?\",\"its raining here\"])\n",
    "print(aww)\n",
    "aww=\"\\t\".join([\"hey there\",\"how are you doing?\",\"its raining here\"])\n",
    "print(aww)"
   ]
  },
  {
   "cell_type": "code",
   "execution_count": 14,
   "metadata": {},
   "outputs": [
    {
     "data": {
      "text/plain": [
       "[123, 'xvc', 'nakd', 2009, 'bnm']"
      ]
     },
     "execution_count": 14,
     "metadata": {},
     "output_type": "execute_result"
    }
   ],
   "source": [
    "alist=[123,\"xvc\",'nakd','bnm']\n",
    "alist.insert(3,2009)# to insert at a prticular position\n",
    "alist"
   ]
  },
  {
   "cell_type": "markdown",
   "metadata": {},
   "source": [
    "# dictionary- denoted by {}"
   ]
  },
  {
   "cell_type": "code",
   "execution_count": 2,
   "metadata": {},
   "outputs": [
    {
     "name": "stdout",
     "output_type": "stream",
     "text": [
      "{'eddy': 26, 'maria': 23, 'harry': 24}\n"
     ]
    },
    {
     "data": {
      "text/plain": [
       "dict"
      ]
     },
     "execution_count": 2,
     "metadata": {},
     "output_type": "execute_result"
    }
   ],
   "source": [
    "students={\"eddy\":26,\"maria\":23,\"harry\":24}#the first element is key and another is its value\n",
    "print(students)\n",
    "type(students)"
   ]
  },
  {
   "cell_type": "code",
   "execution_count": 3,
   "metadata": {},
   "outputs": [
    {
     "data": {
      "text/plain": [
       "24"
      ]
     },
     "execution_count": 3,
     "metadata": {},
     "output_type": "execute_result"
    }
   ],
   "source": [
    "students[\"harry\"]# pass the name of the student to get the age"
   ]
  },
  {
   "cell_type": "code",
   "execution_count": 4,
   "metadata": {},
   "outputs": [
    {
     "data": {
      "text/plain": [
       "dict_keys(['eddy', 'maria', 'harry'])"
      ]
     },
     "execution_count": 4,
     "metadata": {},
     "output_type": "execute_result"
    }
   ],
   "source": [
    "students.keys()\n"
   ]
  },
  {
   "cell_type": "code",
   "execution_count": 5,
   "metadata": {},
   "outputs": [
    {
     "data": {
      "text/plain": [
       "dict_values([26, 23, 24])"
      ]
     },
     "execution_count": 5,
     "metadata": {},
     "output_type": "execute_result"
    }
   ],
   "source": [
    "students.values()"
   ]
  },
  {
   "cell_type": "code",
   "execution_count": 6,
   "metadata": {},
   "outputs": [
    {
     "name": "stdout",
     "output_type": "stream",
     "text": [
      "['e', 'q', 'r', 't', 'w', 'y']\n"
     ]
    }
   ],
   "source": [
    "x={\"q\":1,'w':2,\"e\":3,\"r\":4,\"t\":5,\"y\":6}\n",
    "print(sorted(x))"
   ]
  },
  {
   "cell_type": "code",
   "execution_count": 7,
   "metadata": {},
   "outputs": [
    {
     "data": {
      "text/plain": [
       "{'eddy': 26, 'maria': 23, 'harry': 27}"
      ]
     },
     "execution_count": 7,
     "metadata": {},
     "output_type": "execute_result"
    }
   ],
   "source": [
    "students[\"harry\"]=27\n",
    "students"
   ]
  },
  {
   "cell_type": "code",
   "execution_count": 8,
   "metadata": {},
   "outputs": [
    {
     "name": "stdout",
     "output_type": "stream",
     "text": [
      "{'eddy': 26, 'maria': 23, 'harry': 27}\n"
     ]
    }
   ],
   "source": [
    "print(students)"
   ]
  },
  {
   "cell_type": "code",
   "execution_count": 9,
   "metadata": {},
   "outputs": [],
   "source": [
    "del students[\"harry\"]\n"
   ]
  },
  {
   "cell_type": "code",
   "execution_count": 10,
   "metadata": {},
   "outputs": [
    {
     "name": "stdout",
     "output_type": "stream",
     "text": [
      "{'eddy': 26, 'maria': 23}\n"
     ]
    }
   ],
   "source": [
    "print(students)"
   ]
  },
  {
   "cell_type": "code",
   "execution_count": 12,
   "metadata": {},
   "outputs": [],
   "source": [
    "#two leverl of drill down\n",
    "elements1={\"hydrogen\":{\"number\":1,\"weight\":1.00794,\"symbol\":\"H\"},\"helium\":{\"number\":2,\"weight\":4.0020,\"symbol\":\"he\"}}"
   ]
  },
  {
   "cell_type": "code",
   "execution_count": 2,
   "metadata": {},
   "outputs": [
    {
     "name": "stdout",
     "output_type": "stream",
     "text": [
      "first number5\n",
      "second number6\n",
      "operator+\n"
     ]
    },
    {
     "ename": "TypeError",
     "evalue": "unsupported operand type(s) for +: 'int' and 'str'",
     "output_type": "error",
     "traceback": [
      "\u001b[1;31m---------------------------------------------------------------------------\u001b[0m",
      "\u001b[1;31mTypeError\u001b[0m                                 Traceback (most recent call last)",
      "\u001b[1;32m<ipython-input-2-cfd9173e2c71>\u001b[0m in \u001b[0;36m<module>\u001b[1;34m\u001b[0m\n\u001b[0;32m      2\u001b[0m \u001b[0msecond\u001b[0m\u001b[1;33m=\u001b[0m\u001b[0mint\u001b[0m\u001b[1;33m(\u001b[0m\u001b[0minput\u001b[0m\u001b[1;33m(\u001b[0m\u001b[1;34m'second number'\u001b[0m\u001b[1;33m)\u001b[0m\u001b[1;33m)\u001b[0m\u001b[1;33m\u001b[0m\u001b[1;33m\u001b[0m\u001b[0m\n\u001b[0;32m      3\u001b[0m \u001b[0moper\u001b[0m\u001b[1;33m=\u001b[0m\u001b[0minput\u001b[0m\u001b[1;33m(\u001b[0m\u001b[1;34m'operator'\u001b[0m\u001b[1;33m)\u001b[0m\u001b[1;33m\u001b[0m\u001b[1;33m\u001b[0m\u001b[0m\n\u001b[1;32m----> 4\u001b[1;33m \u001b[0mfirst\u001b[0m \u001b[1;33m+\u001b[0m \u001b[0moper\u001b[0m \u001b[1;33m+\u001b[0m \u001b[0msecond\u001b[0m\u001b[1;33m\u001b[0m\u001b[1;33m\u001b[0m\u001b[0m\n\u001b[0m",
      "\u001b[1;31mTypeError\u001b[0m: unsupported operand type(s) for +: 'int' and 'str'"
     ]
    }
   ],
   "source": [
    "first=int(input('first number'))\n",
    "second=int(input('second number'))\n",
    "oper=input('operator')\n",
    "first + oper + second"
   ]
  },
  {
   "cell_type": "code",
   "execution_count": 7,
   "metadata": {},
   "outputs": [],
   "source": [
    "import math\n",
    "import numpy as np"
   ]
  },
  {
   "cell_type": "code",
   "execution_count": 11,
   "metadata": {},
   "outputs": [],
   "source": [
    "def sigmoid(x):\n",
    "    return(1/(1+math.exp(-x)))"
   ]
  },
  {
   "cell_type": "code",
   "execution_count": 12,
   "metadata": {},
   "outputs": [],
   "source": [
    "sig=[]\n",
    "for i in np.arange(1,10,0.1):\n",
    "    sig.append(sigmoid(i))\n",
    "    "
   ]
  },
  {
   "cell_type": "code",
   "execution_count": 14,
   "metadata": {},
   "outputs": [
    {
     "data": {
      "text/plain": [
       "[0.7310585786300049,\n",
       " 0.7502601055951177,\n",
       " 0.7685247834990178,\n",
       " 0.7858349830425586,\n",
       " 0.8021838885585818,\n",
       " 0.8175744761936438,\n",
       " 0.8320183851339246,\n",
       " 0.8455347349164655,\n",
       " 0.8581489350995123,\n",
       " 0.8698915256370023,\n",
       " 0.8807970779778825,\n",
       " 0.8909031788043871,\n",
       " 0.900249510880315,\n",
       " 0.9088770389851439,\n",
       " 0.9168273035060777,\n",
       " 0.9241418199787566,\n",
       " 0.9308615796566533,\n",
       " 0.9370266439430035,\n",
       " 0.9426758241011313,\n",
       " 0.9478464369215823,\n",
       " 0.9525741268224334,\n",
       " 0.9568927450589139,\n",
       " 0.9608342772032357,\n",
       " 0.9644288107273639,\n",
       " 0.9677045353015495,\n",
       " 0.9706877692486438,\n",
       " 0.9734030064231343,\n",
       " 0.9758729785823308,\n",
       " 0.9781187290638694,\n",
       " 0.9801596942659225,\n",
       " 0.9820137900379085,\n",
       " 0.9836975006285591,\n",
       " 0.9852259683067269,\n",
       " 0.9866130821723351,\n",
       " 0.9878715650157257,\n",
       " 0.9890130573694068,\n",
       " 0.9900481981330957,\n",
       " 0.990986701347152,\n",
       " 0.9918374288468401,\n",
       " 0.9926084586557181,\n",
       " 0.9933071490757153,\n",
       " 0.993940198508416,\n",
       " 0.9945137011005497,\n",
       " 0.995033198349943,\n",
       " 0.9955037268390589,\n",
       " 0.995929862284104,\n",
       " 0.9963157601005641,\n",
       " 0.9966651926925867,\n",
       " 0.9969815836752917,\n",
       " 0.997268039236989,\n",
       " 0.9975273768433653,\n",
       " 0.9977621514787236,\n",
       " 0.9979746796109501,\n",
       " 0.9981670610575072,\n",
       " 0.9983411989198255,\n",
       " 0.998498817743263,\n",
       " 0.9986414800495711,\n",
       " 0.9987706013787226,\n",
       " 0.9988874639671398,\n",
       " 0.9989932291799144,\n",
       " 0.9990889488055994,\n",
       " 0.9991755753136017,\n",
       " 0.9992539711661633,\n",
       " 0.9993249172693672,\n",
       " 0.9993891206405656,\n",
       " 0.9994472213630764,\n",
       " 0.9994997988929205,\n",
       " 0.9995473777767595,\n",
       " 0.9995904328350139,\n",
       " 0.9996293938593735,\n",
       " 0.9996646498695336,\n",
       " 0.9996965529699712,\n",
       " 0.9997254218438986,\n",
       " 0.9997515449181605,\n",
       " 0.9997751832297667,\n",
       " 0.9997965730219448,\n",
       " 0.9998159280950366,\n",
       " 0.9998334419352227,\n",
       " 0.9998492896419403,\n",
       " 0.9998636296729204,\n",
       " 0.9998766054240137,\n",
       " 0.9998883466593704,\n",
       " 0.9998989708060922,\n",
       " 0.9999085841261478,\n",
       " 0.9999172827771484,\n",
       " 0.9999251537724895,\n",
       " 0.9999322758503804,\n",
       " 0.9999387202603833,\n",
       " 0.9999445514752772,\n",
       " 0.9999498278353162]"
      ]
     },
     "execution_count": 14,
     "metadata": {},
     "output_type": "execute_result"
    }
   ],
   "source": [
    "sig"
   ]
  },
  {
   "cell_type": "code",
   "execution_count": 15,
   "metadata": {},
   "outputs": [],
   "source": [
    "import matplotlib.pyplot as plt"
   ]
  },
  {
   "cell_type": "code",
   "execution_count": 19,
   "metadata": {},
   "outputs": [
    {
     "data": {
      "text/plain": [
       "[<matplotlib.lines.Line2D at 0x19f4ed1cc88>]"
      ]
     },
     "execution_count": 19,
     "metadata": {},
     "output_type": "execute_result"
    },
    {
     "data": {
      "image/png": "[encoded data removed]",
      "text/plain": [
       "<Figure size 432x288 with 1 Axes>"
      ]
     },
     "metadata": {
      "needs_background": "light"
     },
     "output_type": "display_data"
    }
   ],
   "source": [
    "plt.plot(np.arange(1,10,0.1),sig)"
   ]
  },
  {
   "cell_type": "code",
   "execution_count": null,
   "metadata": {},
   "outputs": [],
   "source": []
  }
 ],
 "metadata": {
  "kernelspec": {
   "display_name": "Python 3",
   "language": "python",
   "name": "python3"
  },
  "language_info": {
   "codemirror_mode": {
    "name": "ipython",
    "version": 3
   },
   "file_extension": ".py",
   "mimetype": "text/x-python",
   "name": "python",
   "nbconvert_exporter": "python",
   "pygments_lexer": "ipython3",
   "version": "3.7.1"
  }
 },
 "nbformat": 4,
 "nbformat_minor": 2
}
